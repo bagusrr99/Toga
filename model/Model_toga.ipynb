{
 "cells": [
  {
   "cell_type": "markdown",
   "metadata": {
    "id": "83IyR4IAGYFP"
   },
   "source": [
    "# Import Dataset"
   ]
  },
  {
   "cell_type": "code",
   "execution_count": 88,
   "metadata": {
    "id": "o_t4qM_FfWMU"
   },
   "outputs": [],
   "source": [
    "import pandas as pd\n",
    "import numpy as np\n",
    "# from google.colab import drive\n",
    "# drive.mount('/content/drive')"
   ]
  },
  {
   "cell_type": "code",
   "execution_count": 89,
   "metadata": {
    "colab": {
     "base_uri": "https://localhost:8080/",
     "height": 206
    },
    "id": "dtpXypFegbQN",
    "outputId": "0b17a95c-7d0e-4c3d-e2d0-185ef9775a36"
   },
   "outputs": [
    {
     "data": {
      "text/html": [
       "<div>\n",
       "<style scoped>\n",
       "    .dataframe tbody tr th:only-of-type {\n",
       "        vertical-align: middle;\n",
       "    }\n",
       "\n",
       "    .dataframe tbody tr th {\n",
       "        vertical-align: top;\n",
       "    }\n",
       "\n",
       "    .dataframe thead th {\n",
       "        text-align: right;\n",
       "    }\n",
       "</style>\n",
       "<table border=\"1\" class=\"dataframe\">\n",
       "  <thead>\n",
       "    <tr style=\"text-align: right;\">\n",
       "      <th></th>\n",
       "      <th>p1</th>\n",
       "      <th>p2</th>\n",
       "      <th>label</th>\n",
       "      <th>Unnamed: 3</th>\n",
       "      <th>Unnamed: 4</th>\n",
       "      <th>Unnamed: 5</th>\n",
       "    </tr>\n",
       "  </thead>\n",
       "  <tbody>\n",
       "    <tr>\n",
       "      <th>0</th>\n",
       "      <td>batuk</td>\n",
       "      <td>pilek</td>\n",
       "      <td>jahe</td>\n",
       "      <td>NaN</td>\n",
       "      <td>b2=jahe</td>\n",
       "      <td>0=batuk</td>\n",
       "    </tr>\n",
       "    <tr>\n",
       "      <th>1</th>\n",
       "      <td>batuk</td>\n",
       "      <td>nafsu makan</td>\n",
       "      <td>jahe</td>\n",
       "      <td>NaN</td>\n",
       "      <td>b3=kunyit</td>\n",
       "      <td>1=pilek</td>\n",
       "    </tr>\n",
       "    <tr>\n",
       "      <th>2</th>\n",
       "      <td>batuk</td>\n",
       "      <td>sakit perut</td>\n",
       "      <td>jahe</td>\n",
       "      <td>NaN</td>\n",
       "      <td>b4=temulawak</td>\n",
       "      <td>2=nafsu makan</td>\n",
       "    </tr>\n",
       "    <tr>\n",
       "      <th>3</th>\n",
       "      <td>batuk</td>\n",
       "      <td>sakit kepala</td>\n",
       "      <td>jahe</td>\n",
       "      <td>NaN</td>\n",
       "      <td>b5=kencur</td>\n",
       "      <td>3=sakit perut</td>\n",
       "    </tr>\n",
       "    <tr>\n",
       "      <th>4</th>\n",
       "      <td>batuk</td>\n",
       "      <td>perut kembung</td>\n",
       "      <td>jahe</td>\n",
       "      <td>NaN</td>\n",
       "      <td>b6=sirih</td>\n",
       "      <td>4=sakit kepala</td>\n",
       "    </tr>\n",
       "  </tbody>\n",
       "</table>\n",
       "</div>"
      ],
      "text/plain": [
       "      p1             p2 label  Unnamed: 3    Unnamed: 4      Unnamed: 5\n",
       "0  batuk          pilek  jahe         NaN       b2=jahe         0=batuk\n",
       "1  batuk    nafsu makan  jahe         NaN     b3=kunyit         1=pilek\n",
       "2  batuk    sakit perut  jahe         NaN  b4=temulawak   2=nafsu makan\n",
       "3  batuk   sakit kepala  jahe         NaN     b5=kencur   3=sakit perut\n",
       "4  batuk  perut kembung  jahe         NaN      b6=sirih  4=sakit kepala"
      ]
     },
     "execution_count": 89,
     "metadata": {},
     "output_type": "execute_result"
    }
   ],
   "source": [
    "df = pd.read_csv('togaDataset.csv')\n",
    "df.head()"
   ]
  },
  {
   "cell_type": "code",
   "execution_count": 90,
   "metadata": {
    "id": "K8gvq91bfThg"
   },
   "outputs": [],
   "source": [
    "#Menghapus kolom yang tidak di butuhkan\n",
    "df.drop(labels=['Unnamed: 3', 'Unnamed: 4', 'Unnamed: 5'], axis=1, inplace =True)"
   ]
  },
  {
   "cell_type": "code",
   "execution_count": 91,
   "metadata": {
    "colab": {
     "base_uri": "https://localhost:8080/",
     "height": 206
    },
    "id": "sJKD-2A6M7sD",
    "outputId": "74d43c70-e085-408b-cc64-ee70fa3edfaa"
   },
   "outputs": [
    {
     "data": {
      "text/html": [
       "<div>\n",
       "<style scoped>\n",
       "    .dataframe tbody tr th:only-of-type {\n",
       "        vertical-align: middle;\n",
       "    }\n",
       "\n",
       "    .dataframe tbody tr th {\n",
       "        vertical-align: top;\n",
       "    }\n",
       "\n",
       "    .dataframe thead th {\n",
       "        text-align: right;\n",
       "    }\n",
       "</style>\n",
       "<table border=\"1\" class=\"dataframe\">\n",
       "  <thead>\n",
       "    <tr style=\"text-align: right;\">\n",
       "      <th></th>\n",
       "      <th>p1</th>\n",
       "      <th>p2</th>\n",
       "      <th>label</th>\n",
       "    </tr>\n",
       "  </thead>\n",
       "  <tbody>\n",
       "    <tr>\n",
       "      <th>0</th>\n",
       "      <td>batuk</td>\n",
       "      <td>pilek</td>\n",
       "      <td>jahe</td>\n",
       "    </tr>\n",
       "    <tr>\n",
       "      <th>1</th>\n",
       "      <td>batuk</td>\n",
       "      <td>nafsu makan</td>\n",
       "      <td>jahe</td>\n",
       "    </tr>\n",
       "    <tr>\n",
       "      <th>2</th>\n",
       "      <td>batuk</td>\n",
       "      <td>sakit perut</td>\n",
       "      <td>jahe</td>\n",
       "    </tr>\n",
       "    <tr>\n",
       "      <th>3</th>\n",
       "      <td>batuk</td>\n",
       "      <td>sakit kepala</td>\n",
       "      <td>jahe</td>\n",
       "    </tr>\n",
       "    <tr>\n",
       "      <th>4</th>\n",
       "      <td>batuk</td>\n",
       "      <td>perut kembung</td>\n",
       "      <td>jahe</td>\n",
       "    </tr>\n",
       "  </tbody>\n",
       "</table>\n",
       "</div>"
      ],
      "text/plain": [
       "      p1             p2 label\n",
       "0  batuk          pilek  jahe\n",
       "1  batuk    nafsu makan  jahe\n",
       "2  batuk    sakit perut  jahe\n",
       "3  batuk   sakit kepala  jahe\n",
       "4  batuk  perut kembung  jahe"
      ]
     },
     "execution_count": 91,
     "metadata": {},
     "output_type": "execute_result"
    }
   ],
   "source": [
    "df.head()"
   ]
  },
  {
   "cell_type": "markdown",
   "metadata": {
    "id": "Kdg0YPhQGPZ4"
   },
   "source": [
    "# Label Encoding"
   ]
  },
  {
   "cell_type": "code",
   "execution_count": 92,
   "metadata": {
    "colab": {
     "base_uri": "https://localhost:8080/"
    },
    "id": "FY0sr7F0-wPh",
    "outputId": "960836b0-ddca-42fa-c26d-6790743073b3"
   },
   "outputs": [
    {
     "name": "stdout",
     "output_type": "stream",
     "text": [
      "['batuk' 'pilek' 'nafsu makan' 'sakit perut' 'sakit kepala'\n",
      " 'radang amandel' 'asma' 'sembelit' 'masuk angin'\n",
      " 'radang lambung/maag/nyeri lambung' 'demam/panas' 'bau mulut'\n",
      " 'kulit gatal' 'mimisan' 'jerawat' 'pendarahan gusi' 'kecapekan'\n",
      " 'kemandulan' 'bau badan' 'antiseptik' 'ejakulasi dini' 'kencing manis'\n",
      " 'syphilis' 'tifus' 'malaria' 'kolesterol' 'diabetes' 'sesak nafas'\n",
      " 'anemia' 'tekanan darah rendah' 'kudis' 'ketombe' 'darah kurang lancar'\n",
      " 'darah tinggi' 'radang tenggorokan' 'perut kembung' 'sariawan' 'haid'\n",
      " 'rambut rontok' 'cacingan' 'sering sakit' 'asam urat' 'muntah'\n",
      " 'sakit mata' 'penyembuhan luka' 'pencernaan anak' 'nyeri pinggang']\n",
      "['pilek' 'nafsu makan' 'sakit perut' 'sakit kepala' 'perut kembung' 'asma'\n",
      " 'sembelit' 'masuk angin' 'sariawan' 'demam/panas' 'muntah' 'bau mulut'\n",
      " 'sakit mata' 'jerawat' 'pendarahan gusi' 'kulit gatal' 'mimisan'\n",
      " 'kemandulan' 'antiseptik' 'ejakulasi dini' 'bau badan' 'tifus' 'malaria'\n",
      " 'kencing manis' 'syphilis' 'diabetes' 'sesak nafas' 'anemia'\n",
      " 'penyembuhan luka' 'haid' 'cacingan' 'darah kurang lancar'\n",
      " 'radang tenggorokan' 'darah tinggi' 'radang amandel'\n",
      " 'radang lambung/maag/nyeri lambung' 'kudis' 'tekanan darah rendah'\n",
      " 'ketombe' 'pencernaan anak' 'kolesterol' 'kecapekan' 'nyeri pinggang'\n",
      " 'batuk' 'sering sakit' 'rambut rontok' 'asam urat']\n",
      "['jahe' 'temulawak' 'kunyit' 'kencur' 'sirih' 'kemangi' 'sambiloto'\n",
      " 'binahong' 'temu hitam' 'lidah buaya' 'beluntas' 'kumis kucing']\n"
     ]
    }
   ],
   "source": [
    "print(df['p1'].unique())\n",
    "print(df['p2'].unique())\n",
    "print(df['label'].unique())"
   ]
  },
  {
   "cell_type": "code",
   "execution_count": 93,
   "metadata": {
    "id": "QfSqC6HmSHuc"
   },
   "outputs": [],
   "source": [
    "df['p1'] = df['p1'].map({'batuk':0,'pilek':1,'nafsu makan':2,'sakit perut':3,\n",
    "                         'sakit kepala':4,'perut kembung':5,'radang amandel':6,\n",
    "                         'asma':7,'sembelit':8,'masuk angin':9,'sariawan':10,\n",
    "                         'radang lambung/maag/nyeri lambung':11,'demam/panas':12,\n",
    "                         'muntah':13,'bau mulut':14,'sakit mata':15,'kulit gatal':16,\n",
    "                         'jerawat':17,'pendarahan gusi':18,'mimisan':19,'sering sakit':20,\n",
    "                         'kecapekan':21,'kemandulan':22,'antiseptik':23,'ejakulasi dini':24,\n",
    "                         'bau badan':25,'kencing manis':26,'tifus':27,'malaria':28,\n",
    "                         'syphilis':29,'asam urat':30,'kolesterol':31,'diabetes':32,\n",
    "                         'sesak nafas':33,'anemia':34,'penyembuhan luka':35,\n",
    "                         'tekanan darah rendah':36,'haid':37,'kudis':38,'cacingan':39,\n",
    "                         'rambut rontok':40,'ketombe':41,'darah kurang lancar':42,\n",
    "                         'radang tenggorokan':43,'darah tinggi':44,'pencernaan anak':45,\n",
    "                         'nyeri pinggang':46})\n",
    "df['p2'] = df['p2'].map({'batuk':0,'pilek':1,'nafsu makan':2,'sakit perut':3,\n",
    "                         'sakit kepala':4,'perut kembung':5,'radang amandel':6,\n",
    "                         'asma':7,'sembelit':8,'masuk angin':9,'sariawan':10,\n",
    "                         'radang lambung/maag/nyeri lambung':11,'demam/panas':12,\n",
    "                         'muntah':13,'bau mulut':14,'sakit mata':15,'kulit gatal':16,\n",
    "                         'jerawat':17,'pendarahan gusi':18,'mimisan':19,'sering sakit':20,\n",
    "                         'kecapekan':21,'kemandulan':22,'antiseptik':23,'ejakulasi dini':24,\n",
    "                         'bau badan':25,'kencing manis':26,'tifus':27,'malaria':28,\n",
    "                         'syphilis':29,'asam urat':30,'kolesterol':31,'diabetes':32,\n",
    "                         'sesak nafas':33,'anemia':34,'penyembuhan luka':35,\n",
    "                         'tekanan darah rendah':36,'haid':37,'kudis':38,'cacingan':39,\n",
    "                         'rambut rontok':40,'ketombe':41,'darah kurang lancar':42,\n",
    "                         'radang tenggorokan':43,'darah tinggi':44,'pencernaan anak':45,\n",
    "                         'nyeri pinggang':46})\n",
    "df['label'] = df['label'].map({'jahe':0,'kunyit':1,'temulawak':2,\n",
    "                              'kencur':3,'sirih':4,'kemangi':5,\n",
    "                              'sambiloto':6,'binahong':7,'temu hitam':8,\n",
    "                              'lidah buaya':9,'beluntas':10,'kumis kucing':11})"
   ]
  },
  {
   "cell_type": "code",
   "execution_count": 94,
   "metadata": {
    "id": "RSylH9V3J7HP"
   },
   "outputs": [],
   "source": [
    "# df['p1'] = df['p1'].map({'batuk':0,'nafsu makan':1,'sakit perut':2,'sakit kepala':3,\n",
    "#                          'radang amandel':4,'asma':5,'sembelit':6,'masuk angin':7,\n",
    "#                          'radang lambung/maag/nyeri lambung':7,'demam/panas':8,\n",
    "#                          'bau mulut':9,'kulit gatal':10,'jerawat':11,'pendarahan gusi':12,\n",
    "#                          'kecapekan':13,'kemandulan':14,'antiseptik':15,'ejakulasi dini':16,\n",
    "#                          'kencing manis':17,'tifus':18,'malaria':19,'kolesterol':20,\n",
    "#                          'diabetes':21,'sesak nafas':22,'anemia':23,'tekanan darah rendah':24,\n",
    "#                          'kudis':25,'ketombe':26,'darah kurang lancar':27,\n",
    "#                          'radang tenggorokan':28,'perut kembung':29,'sariawan':30,\n",
    "#                          'haid':31,'rambut rontok':32,'cacingan':33,'sering sakit':34,\n",
    "#                          'asam urat':35,'mimisan':36,'penyembuhan luka':37,'nyeri pinggang':38})\n",
    "# df['p2'] = df['p2'].map({'nafsu makan':0,'sakit perut':1,'sakit kepala':2,'perut kembung':3,\n",
    "#                          'asma':4,'sembelit':5,'masuk angin':6,'sariawan':7,'demam/panas':8,\n",
    "#                          'muntah':9,'bau mulut':10,'sakit mata':11,'jerawat':12,\n",
    "#                          'pendarahan gusi':13,'mimisan':14,'kemandulan':15,'antiseptik':16,\n",
    "#                          'ejakulasi dini':17,'bau badan':18,'tifus':19,'malaria':20,\n",
    "#                          'syphilis':21,'diabetes':22,'sesak nafas':23,'anemia':24,\n",
    "#                          'penyembuhan luka':25,'haid':26,'cacingan':27,'darah kurang lancar':28,\n",
    "#                          'radang tenggorokan':29,'darah tinggi':30,'radang amandel':31,\n",
    "#                          'radang lambung/maag/nyeri lambung':32,'kudis':33,'tekanan darah rendah':34,\n",
    "#                          'ketombe':35,'pencernaan anak':36,'kolesterol':37,'kecapekan':38,\n",
    "#                          'nyeri pinggang':39,'rambut rontok':40})\n",
    "# df['label'] = df['label'].map({'jahe':0,'kunyit':1,'temulawak':2,\n",
    "#                               'kencur':3,'sirih':4,'kemangi':5,\n",
    "#                               'sambiloto':6,'binahong':7,'temu hitam':8,\n",
    "#                               'lidah buaya':9,'beluntas':10})"
   ]
  },
  {
   "cell_type": "code",
   "execution_count": 95,
   "metadata": {
    "id": "ULuG2-Wr-_Q2"
   },
   "outputs": [],
   "source": [
    "# df['p1'] = df['p1'].map({'batuk':0,'nafsu makan':1,'sakit perut':2,\n",
    "#                          'sakit kepala':3,'perut kembung':4,'radang amandel':5,\n",
    "#                          'asma':6,'sembelit':7,'masuk angin':8,\n",
    "#                          'sariawan':9,'radang lambung/maag/nyeri lambung':10,'demam/panas':11,\n",
    "#                          'muntah':12,'bau mulut':13,'sakit mata':14,\n",
    "#                          'kulit gatal':15,'jerawat':16,'pendarahan gusi':17,\n",
    "#                          'mimisan':18,'kecapekan':19,'kemandulan':20,'antiseptik':21,\n",
    "#                          'ejakulasi dini':22,'bau badan':23,'kencing manis':24,\n",
    "#                          'tifus':25,'malaria':26,'syphilis':27,'kolesterol':28,\n",
    "#                          'diabetes':29,'sesak nafas':30,'anemia':31,'penyembuhan luka':32,\n",
    "#                          'tekanan darah rendah':33,'haid':34,'kudis':35,'cacingan':36,\n",
    "#                          'ketombe':37,'darah kurang lancar':38,'radang tenggorokan':39,\n",
    "#                          'darah tinggi':40})\n",
    "\n",
    "# # df['p2'] = df['p2'].map({'nafsu makan':1,'sakit perut':2,'sakit kepala':3,\n",
    "# #                          'perut kembung':4,'batuk':0,'asma':6,'sembelit':7,\n",
    "# #                          'radang amandel':5,'masuk angin':8,'sariawan':9,\n",
    "# #                          'demam/panas':11,'muntah':12,'bau mulut':13,'sakit mata':14,\n",
    "# #                          'radang lambung/maag/nyeri lambung':10,'jerawat':16,\n",
    "# #                          'pendarahan gusi':17,'mimisan':18,'kulit gatal':15,\n",
    "# #                          'kemandulan':20,'antiseptik':21,'ejakulasi dini':22,\n",
    "# #                          'bau badan':23,'kecapekan':19,'tifus':25,'malaria':26,\n",
    "# #                          'syphilis':27,'kencing manis':24,'diabetes':29,'sesak nafas':30,\n",
    "# #                          'anemia':31,'penyembuhan luka':32,'kolesterol':28,'haid':34,\n",
    "# #                          'tekanan darah rendah':33,'cacingan':36,'kudis':35,\n",
    "# #                          'darah kurang lancar':38,'radang tenggorokan':39,\n",
    "# #                          'darah tinggi':40,'ketombe':37})\n",
    "# df['p2'] = df['p2'].map({'batuk':0,'nafsu makan':1,'sakit perut':2,\n",
    "#                          'sakit kepala':3,'perut kembung':4,'radang amandel':5,\n",
    "#                          'asma':6,'sembelit':7,'masuk angin':8,\n",
    "#                          'sariawan':9,'radang lambung/maag/nyeri lambung':10,'demam/panas':11,\n",
    "#                          'muntah':12,'bau mulut':13,'sakit mata':14,\n",
    "#                          'kulit gatal':15,'jerawat':16,'pendarahan gusi':17,\n",
    "#                          'mimisan':18,'kecapekan':19,'kemandulan':20,'antiseptik':21,\n",
    "#                          'ejakulasi dini':22,'bau badan':23,'kencing manis':24,\n",
    "#                          'tifus':25,'malaria':26,'syphilis':27,'kolesterol':28,\n",
    "#                          'diabetes':29,'sesak nafas':30,'anemia':31,'penyembuhan luka':32,\n",
    "#                          'tekanan darah rendah':33,'haid':34,'kudis':35,'cacingan':36,\n",
    "#                          'ketombe':37,'darah kurang lancar':38,'radang tenggorokan':39,\n",
    "#                          'darah tinggi':40})\n",
    "\n",
    "# df['label'] = df['label'].map({'jahe':0,'kunyit':1,'temulawak':2,\n",
    "#                               'kencur':3,'sirih':4,'kemangi':5,\n",
    "#                               'sambiloto':6,'binahong':7,'temu hitam':8,'lidah buaya':9})"
   ]
  },
  {
   "cell_type": "code",
   "execution_count": 96,
   "metadata": {
    "colab": {
     "base_uri": "https://localhost:8080/"
    },
    "id": "pHE_c1up_oxI",
    "outputId": "28fb0a52-bee7-469c-86f4-5de30d518fd8"
   },
   "outputs": [
    {
     "name": "stdout",
     "output_type": "stream",
     "text": [
      "[ 0  1  2  3  4  6  7  8  9 11 12 14 16 19 17 18 21 22 25 23 24 26 29 27\n",
      " 28 31 32 33 34 36 38 41 42 44 43  5 10 37 40 39 20 30 13 15 35 45 46]\n",
      "[ 1  2  3  4  5  7  8  9 10 12 13 14 15 17 18 16 19 22 23 24 25 27 28 26\n",
      " 29 32 33 34 35 37 39 42 43 44  6 11 38 36 41 45 31 21 46  0 20 40 30]\n",
      "[ 0  2  1  3  4  5  6  7  8  9 10 11]\n"
     ]
    }
   ],
   "source": [
    "print(df['p1'].unique())\n",
    "print(df['p2'].unique())\n",
    "print(df['label'].unique())"
   ]
  },
  {
   "cell_type": "code",
   "execution_count": 97,
   "metadata": {
    "colab": {
     "base_uri": "https://localhost:8080/",
     "height": 424
    },
    "id": "iUcZh9S-_sIJ",
    "outputId": "f630de6c-71c4-4ba4-c246-108b306f12be"
   },
   "outputs": [
    {
     "data": {
      "text/html": [
       "<div>\n",
       "<style scoped>\n",
       "    .dataframe tbody tr th:only-of-type {\n",
       "        vertical-align: middle;\n",
       "    }\n",
       "\n",
       "    .dataframe tbody tr th {\n",
       "        vertical-align: top;\n",
       "    }\n",
       "\n",
       "    .dataframe thead th {\n",
       "        text-align: right;\n",
       "    }\n",
       "</style>\n",
       "<table border=\"1\" class=\"dataframe\">\n",
       "  <thead>\n",
       "    <tr style=\"text-align: right;\">\n",
       "      <th></th>\n",
       "      <th>p1</th>\n",
       "      <th>p2</th>\n",
       "      <th>label</th>\n",
       "    </tr>\n",
       "  </thead>\n",
       "  <tbody>\n",
       "    <tr>\n",
       "      <th>0</th>\n",
       "      <td>0</td>\n",
       "      <td>1</td>\n",
       "      <td>0</td>\n",
       "    </tr>\n",
       "    <tr>\n",
       "      <th>1</th>\n",
       "      <td>0</td>\n",
       "      <td>2</td>\n",
       "      <td>0</td>\n",
       "    </tr>\n",
       "    <tr>\n",
       "      <th>2</th>\n",
       "      <td>0</td>\n",
       "      <td>3</td>\n",
       "      <td>0</td>\n",
       "    </tr>\n",
       "    <tr>\n",
       "      <th>3</th>\n",
       "      <td>0</td>\n",
       "      <td>4</td>\n",
       "      <td>0</td>\n",
       "    </tr>\n",
       "    <tr>\n",
       "      <th>4</th>\n",
       "      <td>0</td>\n",
       "      <td>5</td>\n",
       "      <td>0</td>\n",
       "    </tr>\n",
       "    <tr>\n",
       "      <th>...</th>\n",
       "      <td>...</td>\n",
       "      <td>...</td>\n",
       "      <td>...</td>\n",
       "    </tr>\n",
       "    <tr>\n",
       "      <th>122</th>\n",
       "      <td>12</td>\n",
       "      <td>45</td>\n",
       "      <td>10</td>\n",
       "    </tr>\n",
       "    <tr>\n",
       "      <th>123</th>\n",
       "      <td>20</td>\n",
       "      <td>21</td>\n",
       "      <td>10</td>\n",
       "    </tr>\n",
       "    <tr>\n",
       "      <th>124</th>\n",
       "      <td>9</td>\n",
       "      <td>46</td>\n",
       "      <td>11</td>\n",
       "    </tr>\n",
       "    <tr>\n",
       "      <th>125</th>\n",
       "      <td>46</td>\n",
       "      <td>30</td>\n",
       "      <td>11</td>\n",
       "    </tr>\n",
       "    <tr>\n",
       "      <th>126</th>\n",
       "      <td>12</td>\n",
       "      <td>30</td>\n",
       "      <td>11</td>\n",
       "    </tr>\n",
       "  </tbody>\n",
       "</table>\n",
       "<p>127 rows × 3 columns</p>\n",
       "</div>"
      ],
      "text/plain": [
       "     p1  p2  label\n",
       "0     0   1      0\n",
       "1     0   2      0\n",
       "2     0   3      0\n",
       "3     0   4      0\n",
       "4     0   5      0\n",
       "..   ..  ..    ...\n",
       "122  12  45     10\n",
       "123  20  21     10\n",
       "124   9  46     11\n",
       "125  46  30     11\n",
       "126  12  30     11\n",
       "\n",
       "[127 rows x 3 columns]"
      ]
     },
     "execution_count": 97,
     "metadata": {},
     "output_type": "execute_result"
    }
   ],
   "source": [
    "df"
   ]
  },
  {
   "cell_type": "markdown",
   "metadata": {
    "id": "iYPm-vTac5KG"
   },
   "source": [
    "# Handling Imbalance Data"
   ]
  },
  {
   "cell_type": "code",
   "execution_count": 98,
   "metadata": {
    "id": "qDt3mEsgQ78J"
   },
   "outputs": [],
   "source": [
    "X = df.drop(labels='label', axis=1).values\n",
    "y = df['label'].values"
   ]
  },
  {
   "cell_type": "code",
   "execution_count": 99,
   "metadata": {
    "colab": {
     "base_uri": "https://localhost:8080/"
    },
    "id": "b1il0p14Uxqd",
    "outputId": "f9cf6e43-0fc4-4521-bdfc-6ae69496d657"
   },
   "outputs": [
    {
     "data": {
      "text/plain": [
       "(array([ 0,  1,  2,  3,  4,  5,  6,  7,  8,  9, 10, 11], dtype=int64),\n",
       " array([14,  5, 14,  9, 17, 12,  8, 21, 11,  9,  4,  3], dtype=int64))"
      ]
     },
     "execution_count": 99,
     "metadata": {},
     "output_type": "execute_result"
    }
   ],
   "source": [
    "np.unique(y, return_counts=True)"
   ]
  },
  {
   "cell_type": "code",
   "execution_count": 100,
   "metadata": {
    "id": "LkdcZdyVX21x"
   },
   "outputs": [],
   "source": [
    "from imblearn.over_sampling import SMOTENC\n",
    "from imblearn.over_sampling import SVMSMOTE\n",
    "from imblearn.over_sampling import RandomOverSampler\n",
    "from imblearn.over_sampling import SMOTE\n",
    "from imblearn.combine import SMOTEENN "
   ]
  },
  {
   "cell_type": "code",
   "execution_count": 101,
   "metadata": {
    "id": "xpcTy9XzZ47r"
   },
   "outputs": [],
   "source": [
    "ros = RandomOverSampler(random_state=42)\n",
    "X_res, y_res = ros.fit_resample(X, y)"
   ]
  },
  {
   "cell_type": "code",
   "execution_count": 102,
   "metadata": {
    "id": "0arzLIspMiKA"
   },
   "outputs": [],
   "source": [
    "# sme = SMOTEENN(random_state=42)\n",
    "# X_res, y_res = sme.fit_resample(X, y)"
   ]
  },
  {
   "cell_type": "code",
   "execution_count": 103,
   "metadata": {
    "id": "fXVSVbT2b8sZ"
   },
   "outputs": [],
   "source": [
    "# sm = SMOTE(random_state=42)\n",
    "# X_res, y_res = sm.fit_resample(X, y)"
   ]
  },
  {
   "cell_type": "code",
   "execution_count": 104,
   "metadata": {
    "id": "5-AUxdRJX7TN"
   },
   "outputs": [],
   "source": [
    "# sm = SMOTENC(random_state=42,categorical_features=[2])\n",
    "# X_res, y_res = sm.fit_resample(X, y)"
   ]
  },
  {
   "cell_type": "code",
   "execution_count": 105,
   "metadata": {
    "colab": {
     "base_uri": "https://localhost:8080/"
    },
    "id": "wQY7vh9rYE5U",
    "outputId": "5483e1ac-7a07-4222-e684-72e85e5513c2"
   },
   "outputs": [
    {
     "data": {
      "text/plain": [
       "(array([ 0,  1,  2,  3,  4,  5,  6,  7,  8,  9, 10, 11], dtype=int64),\n",
       " array([21, 21, 21, 21, 21, 21, 21, 21, 21, 21, 21, 21], dtype=int64))"
      ]
     },
     "execution_count": 105,
     "metadata": {},
     "output_type": "execute_result"
    }
   ],
   "source": [
    "np.unique(y_res, return_counts=True)"
   ]
  },
  {
   "cell_type": "code",
   "execution_count": 106,
   "metadata": {
    "colab": {
     "base_uri": "https://localhost:8080/"
    },
    "id": "ZhD3Oj9PYDgd",
    "outputId": "b858b702-468d-4101-a3eb-84e976880306"
   },
   "outputs": [
    {
     "name": "stdout",
     "output_type": "stream",
     "text": [
      "(252, 2)\n",
      "(252,)\n"
     ]
    }
   ],
   "source": [
    "print(X_res.shape)\n",
    "print(y_res.shape)"
   ]
  },
  {
   "cell_type": "markdown",
   "metadata": {
    "id": "1-FU26TCGsd_"
   },
   "source": [
    "# Standarisasi"
   ]
  },
  {
   "cell_type": "code",
   "execution_count": 107,
   "metadata": {
    "id": "-zIWL5SZUd1l"
   },
   "outputs": [],
   "source": [
    "import matplotlib.pyplot as plt\n",
    "import seaborn as sns\n",
    "from scipy import stats"
   ]
  },
  {
   "cell_type": "code",
   "execution_count": 108,
   "metadata": {
    "id": "7TtZt3o7Up6X"
   },
   "outputs": [],
   "source": [
    "from sklearn.model_selection import train_test_split"
   ]
  },
  {
   "cell_type": "code",
   "execution_count": 109,
   "metadata": {
    "colab": {
     "base_uri": "https://localhost:8080/"
    },
    "id": "6uhfzVfNU3zh",
    "outputId": "86fdb6bf-9b0e-4245-9961-eb74faab3ec0"
   },
   "outputs": [
    {
     "name": "stdout",
     "output_type": "stream",
     "text": [
      "Train set size :  (176, 2) (176,)\n",
      "Test set size  :  (76, 2) (76,)\n"
     ]
    }
   ],
   "source": [
    "X_train, X_test, y_train, y_test = train_test_split(X_res, y_res, test_size=0.3, random_state=42, stratify=y_res)\n",
    "\n",
    "print('Train set size : ', X_train.shape, y_train.shape)\n",
    "print('Test set size  : ', X_test.shape, y_test.shape)"
   ]
  },
  {
   "cell_type": "code",
   "execution_count": 110,
   "metadata": {
    "id": "owD4NP2OVB-B"
   },
   "outputs": [],
   "source": [
    "from sklearn.preprocessing import StandardScaler"
   ]
  },
  {
   "cell_type": "code",
   "execution_count": 111,
   "metadata": {
    "id": "WBoqItZtVD23"
   },
   "outputs": [],
   "source": [
    "scaler = StandardScaler()\n",
    "scaler.fit(X_train)\n",
    "\n",
    "# Standardization Feature\n",
    "X_train_scaled = scaler.transform(X_train)\n",
    "X_test_scaled = scaler.transform(X_test)"
   ]
  },
  {
   "cell_type": "markdown",
   "metadata": {
    "id": "4u3TibK0GBLn"
   },
   "source": [
    "# Modelling"
   ]
  },
  {
   "cell_type": "code",
   "execution_count": 112,
   "metadata": {
    "id": "TwdgEdCsVFzW"
   },
   "outputs": [],
   "source": [
    "from sklearn.model_selection import GridSearchCV\n",
    "from sklearn.metrics import classification_report"
   ]
  },
  {
   "cell_type": "markdown",
   "metadata": {
    "id": "v8dgkmqKD8pz"
   },
   "source": [
    "**SVM**"
   ]
  },
  {
   "cell_type": "code",
   "execution_count": 113,
   "metadata": {
    "id": "HABGL90WVLIU"
   },
   "outputs": [],
   "source": [
    "from sklearn.svm import SVC"
   ]
  },
  {
   "cell_type": "code",
   "execution_count": 114,
   "metadata": {
    "colab": {
     "base_uri": "https://localhost:8080/"
    },
    "id": "vkZOowZ2VPFa",
    "outputId": "b4924e29-9f48-463c-bfe1-0f3b25d0a7a7"
   },
   "outputs": [
    {
     "data": {
      "text/plain": [
       "SVC()"
      ]
     },
     "execution_count": 114,
     "metadata": {},
     "output_type": "execute_result"
    }
   ],
   "source": [
    "model_svm = SVC()\n",
    "model_svm.fit(X_train_scaled, y_train)"
   ]
  },
  {
   "cell_type": "markdown",
   "metadata": {
    "id": "SyjTvXWMwGCR"
   },
   "source": [
    "**SVM dengan hyperparameter**"
   ]
  },
  {
   "cell_type": "code",
   "execution_count": 115,
   "metadata": {
    "colab": {
     "base_uri": "https://localhost:8080/"
    },
    "id": "iT42pgz3wFvx",
    "outputId": "18a7fe11-fa2b-4c3b-f2c9-c8c8b8da5ad8"
   },
   "outputs": [
    {
     "name": "stdout",
     "output_type": "stream",
     "text": [
      "Setting model SVM terbaik : {'C': 1000, 'gamma': 1, 'kernel': 'rbf'}\n"
     ]
    }
   ],
   "source": [
    "hyperparameters = {'C': [0.1, 1, 10, 100, 1000],\n",
    "                   'kernel': ['rbf', 'sigmoid'],\n",
    "                   'gamma': [1, 0.1, 0.01, 0.001, 0.0001]}\n",
    "\n",
    "model_svm_hyper = GridSearchCV(SVC(), hyperparameters, cv=3, refit=True)\n",
    "\n",
    "model_svm_hyper.fit(X_train_scaled, y_train)\n",
    "print('Setting model SVM terbaik :', model_svm_hyper.best_params_)"
   ]
  },
  {
   "cell_type": "markdown",
   "metadata": {
    "id": "7kTcb7ZID_pt"
   },
   "source": [
    "**Logistic** **Regression**"
   ]
  },
  {
   "cell_type": "code",
   "execution_count": 116,
   "metadata": {
    "id": "kmk6JPFYEGod"
   },
   "outputs": [],
   "source": [
    "from sklearn.linear_model import LogisticRegression"
   ]
  },
  {
   "cell_type": "code",
   "execution_count": 117,
   "metadata": {
    "colab": {
     "base_uri": "https://localhost:8080/"
    },
    "id": "Q_chwUTYEI1O",
    "outputId": "2f95d593-c1f9-4c01-83c2-a1d82bdd2d30"
   },
   "outputs": [
    {
     "data": {
      "text/plain": [
       "LogisticRegression()"
      ]
     },
     "execution_count": 117,
     "metadata": {},
     "output_type": "execute_result"
    }
   ],
   "source": [
    "model_logistic=LogisticRegression()\n",
    "model_logistic.fit(X_train_scaled, y_train)"
   ]
  },
  {
   "cell_type": "markdown",
   "metadata": {
    "id": "BNb0xpyhELg3"
   },
   "source": [
    "**Multi Layer Perceptron**"
   ]
  },
  {
   "cell_type": "code",
   "execution_count": 118,
   "metadata": {
    "id": "9XxGmqmpWhAq"
   },
   "outputs": [],
   "source": [
    "from sklearn.neural_network import MLPClassifier"
   ]
  },
  {
   "cell_type": "code",
   "execution_count": 119,
   "metadata": {
    "colab": {
     "base_uri": "https://localhost:8080/"
    },
    "id": "OzOlPJyXWhoD",
    "outputId": "a966db95-0181-47cc-f69f-8ac130a75cf5"
   },
   "outputs": [
    {
     "name": "stderr",
     "output_type": "stream",
     "text": [
      "c:\\users\\runcodebagus\\appdata\\local\\programs\\python\\python37\\lib\\site-packages\\sklearn\\neural_network\\_multilayer_perceptron.py:696: ConvergenceWarning: Stochastic Optimizer: Maximum iterations (200) reached and the optimization hasn't converged yet.\n",
      "  ConvergenceWarning,\n"
     ]
    },
    {
     "data": {
      "text/plain": [
       "MLPClassifier()"
      ]
     },
     "execution_count": 119,
     "metadata": {},
     "output_type": "execute_result"
    }
   ],
   "source": [
    "model_mlp=MLPClassifier()\n",
    "model_mlp.fit(X_train_scaled, y_train)"
   ]
  },
  {
   "cell_type": "markdown",
   "metadata": {
    "id": "1CfAf1wIzork"
   },
   "source": [
    "**Decision Tree**"
   ]
  },
  {
   "cell_type": "code",
   "execution_count": 120,
   "metadata": {
    "id": "NKjuBCS9zoDe"
   },
   "outputs": [],
   "source": [
    "from sklearn.tree import DecisionTreeClassifier"
   ]
  },
  {
   "cell_type": "code",
   "execution_count": 121,
   "metadata": {
    "colab": {
     "base_uri": "https://localhost:8080/"
    },
    "id": "eFW0M9jJzrh2",
    "outputId": "649c9a04-f3dd-4a2c-b2b0-fb139bf3987d"
   },
   "outputs": [
    {
     "data": {
      "text/plain": [
       "DecisionTreeClassifier()"
      ]
     },
     "execution_count": 121,
     "metadata": {},
     "output_type": "execute_result"
    }
   ],
   "source": [
    "model_dt=DecisionTreeClassifier()\n",
    "model_dt.fit(X_train_scaled, y_train)"
   ]
  },
  {
   "cell_type": "markdown",
   "metadata": {
    "id": "eWkmDAA-z2_R"
   },
   "source": [
    "**Decision Tree dengan hyperparameters**"
   ]
  },
  {
   "cell_type": "code",
   "execution_count": 122,
   "metadata": {
    "colab": {
     "base_uri": "https://localhost:8080/"
    },
    "id": "gnG6Qerxzz85",
    "outputId": "cf309ca3-8557-411b-e5ce-fad15c8488b1"
   },
   "outputs": [
    {
     "name": "stdout",
     "output_type": "stream",
     "text": [
      "Setting model Decision Tree terbaik : {'max_depth': 8, 'max_leaf_nodes': 18}\n"
     ]
    }
   ],
   "source": [
    "hyperparameters = {'max_depth': list(range(2, 20)),\n",
    "                   'max_leaf_nodes': list(range(2, 20))}\n",
    "\n",
    "model_dt_hyper = GridSearchCV(DecisionTreeClassifier(random_state=42), hyperparameters, cv=3, refit=True)\n",
    "\n",
    "model_dt_hyper.fit(X_train, y_train)\n",
    "print('Setting model Decision Tree terbaik :', model_dt_hyper.best_params_)"
   ]
  },
  {
   "cell_type": "markdown",
   "metadata": {
    "id": "0xTGCYX0EQ4D"
   },
   "source": [
    "**Naive Bayes**"
   ]
  },
  {
   "cell_type": "code",
   "execution_count": 123,
   "metadata": {
    "id": "-LTHOpFJFHZO"
   },
   "outputs": [],
   "source": [
    "from sklearn.naive_bayes import GaussianNB"
   ]
  },
  {
   "cell_type": "code",
   "execution_count": 124,
   "metadata": {
    "colab": {
     "base_uri": "https://localhost:8080/"
    },
    "id": "WYfTmiWGFJUG",
    "outputId": "6f160f75-c748-4fc8-c4cc-3e4a1ea52efc"
   },
   "outputs": [
    {
     "data": {
      "text/plain": [
       "GaussianNB()"
      ]
     },
     "execution_count": 124,
     "metadata": {},
     "output_type": "execute_result"
    }
   ],
   "source": [
    "model_nb=GaussianNB()\n",
    "model_nb.fit(X_train_scaled, y_train)"
   ]
  },
  {
   "cell_type": "markdown",
   "metadata": {
    "id": "Saxjx93DEWPB"
   },
   "source": [
    "**KNN**"
   ]
  },
  {
   "cell_type": "code",
   "execution_count": 125,
   "metadata": {
    "id": "YDfe1aevDJJH"
   },
   "outputs": [],
   "source": [
    "from sklearn.neighbors import KNeighborsClassifier"
   ]
  },
  {
   "cell_type": "code",
   "execution_count": 126,
   "metadata": {
    "colab": {
     "base_uri": "https://localhost:8080/"
    },
    "id": "1LT5_isTDPOH",
    "outputId": "0656b583-a6a2-4186-97df-fad0b06b3e84"
   },
   "outputs": [
    {
     "data": {
      "text/plain": [
       "KNeighborsClassifier()"
      ]
     },
     "execution_count": 126,
     "metadata": {},
     "output_type": "execute_result"
    }
   ],
   "source": [
    "model_knn=KNeighborsClassifier()\n",
    "model_knn.fit(X_train_scaled, y_train)"
   ]
  },
  {
   "cell_type": "markdown",
   "metadata": {
    "id": "HWUfinw3yUyA"
   },
   "source": [
    "**KNN dengan hyperparameters**"
   ]
  },
  {
   "cell_type": "code",
   "execution_count": 127,
   "metadata": {
    "colab": {
     "base_uri": "https://localhost:8080/"
    },
    "id": "5yEX4yTxyYx_",
    "outputId": "1eb01e1c-3284-4494-d97f-8e4ba20e6f95"
   },
   "outputs": [
    {
     "name": "stdout",
     "output_type": "stream",
     "text": [
      "Setting model Decision Tree terbaik : {'n_neighbors': 2}\n"
     ]
    }
   ],
   "source": [
    "hyperparameters = {'n_neighbors': list(range(2, 41))}\n",
    "\n",
    "model_knn_hyper = GridSearchCV(KNeighborsClassifier(), hyperparameters, cv=3, refit=True)\n",
    "\n",
    "model_knn_hyper.fit(X_train_scaled, y_train)\n",
    "print('Setting model Decision Tree terbaik :', model_knn_hyper.best_params_)"
   ]
  },
  {
   "cell_type": "markdown",
   "metadata": {
    "id": "6TVcHDvVDuXi"
   },
   "source": [
    "# Evaluation Model"
   ]
  },
  {
   "cell_type": "markdown",
   "metadata": {
    "id": "vEgXi665Eu8R"
   },
   "source": [
    "**SVM**"
   ]
  },
  {
   "cell_type": "code",
   "execution_count": 128,
   "metadata": {
    "colab": {
     "base_uri": "https://localhost:8080/"
    },
    "id": "l1q37f5hVfKn",
    "outputId": "099f5c4f-c1b3-4dd7-db68-90067ecb56b7"
   },
   "outputs": [
    {
     "name": "stdout",
     "output_type": "stream",
     "text": [
      "              precision    recall  f1-score   support\n",
      "\n",
      "           0       0.60      1.00      0.75         6\n",
      "           1       0.00      0.00      0.00         6\n",
      "           2       0.62      0.83      0.71         6\n",
      "           3       0.83      0.71      0.77         7\n",
      "           4       0.75      0.86      0.80         7\n",
      "           5       1.00      1.00      1.00         6\n",
      "           6       1.00      0.71      0.83         7\n",
      "           7       1.00      0.86      0.92         7\n",
      "           8       1.00      0.17      0.29         6\n",
      "           9       0.43      0.50      0.46         6\n",
      "          10       0.27      0.50      0.35         6\n",
      "          11       0.25      0.33      0.29         6\n",
      "\n",
      "    accuracy                           0.63        76\n",
      "   macro avg       0.65      0.62      0.60        76\n",
      "weighted avg       0.66      0.63      0.61        76\n",
      "\n"
     ]
    },
    {
     "name": "stderr",
     "output_type": "stream",
     "text": [
      "c:\\users\\runcodebagus\\appdata\\local\\programs\\python\\python37\\lib\\site-packages\\sklearn\\metrics\\_classification.py:1318: UndefinedMetricWarning: Precision and F-score are ill-defined and being set to 0.0 in labels with no predicted samples. Use `zero_division` parameter to control this behavior.\n",
      "  _warn_prf(average, modifier, msg_start, len(result))\n",
      "c:\\users\\runcodebagus\\appdata\\local\\programs\\python\\python37\\lib\\site-packages\\sklearn\\metrics\\_classification.py:1318: UndefinedMetricWarning: Precision and F-score are ill-defined and being set to 0.0 in labels with no predicted samples. Use `zero_division` parameter to control this behavior.\n",
      "  _warn_prf(average, modifier, msg_start, len(result))\n",
      "c:\\users\\runcodebagus\\appdata\\local\\programs\\python\\python37\\lib\\site-packages\\sklearn\\metrics\\_classification.py:1318: UndefinedMetricWarning: Precision and F-score are ill-defined and being set to 0.0 in labels with no predicted samples. Use `zero_division` parameter to control this behavior.\n",
      "  _warn_prf(average, modifier, msg_start, len(result))\n"
     ]
    }
   ],
   "source": [
    "y_pred_svm = model_svm.predict(X_test_scaled)\n",
    "print(classification_report(y_test, y_pred_svm))"
   ]
  },
  {
   "cell_type": "markdown",
   "metadata": {
    "id": "zjVHbcXHwYN1"
   },
   "source": [
    "**SVM dengan hyperparameters**"
   ]
  },
  {
   "cell_type": "code",
   "execution_count": 129,
   "metadata": {
    "colab": {
     "base_uri": "https://localhost:8080/"
    },
    "id": "QemriuHnwXfc",
    "outputId": "f619064e-ea5f-474c-d055-05bfb2b6c5ca"
   },
   "outputs": [
    {
     "name": "stdout",
     "output_type": "stream",
     "text": [
      "              precision    recall  f1-score   support\n",
      "\n",
      "           0       0.86      1.00      0.92         6\n",
      "           1       1.00      1.00      1.00         6\n",
      "           2       0.83      0.83      0.83         6\n",
      "           3       1.00      0.71      0.83         7\n",
      "           4       0.83      0.71      0.77         7\n",
      "           5       1.00      1.00      1.00         6\n",
      "           6       1.00      1.00      1.00         7\n",
      "           7       1.00      0.43      0.60         7\n",
      "           8       1.00      0.83      0.91         6\n",
      "           9       0.60      1.00      0.75         6\n",
      "          10       0.67      1.00      0.80         6\n",
      "          11       1.00      1.00      1.00         6\n",
      "\n",
      "    accuracy                           0.87        76\n",
      "   macro avg       0.90      0.88      0.87        76\n",
      "weighted avg       0.90      0.87      0.86        76\n",
      "\n"
     ]
    }
   ],
   "source": [
    "y_pred_svm_hyper = model_svm_hyper.predict(X_test_scaled)\n",
    "print(classification_report(y_test, y_pred_svm_hyper))"
   ]
  },
  {
   "cell_type": "markdown",
   "metadata": {
    "id": "WtxBqeuuEx5f"
   },
   "source": [
    "**Logistic Regression**"
   ]
  },
  {
   "cell_type": "code",
   "execution_count": 130,
   "metadata": {
    "colab": {
     "base_uri": "https://localhost:8080/"
    },
    "id": "eutHNreYERvu",
    "outputId": "3494de89-ab3f-43f4-976c-2b57f6463eb0"
   },
   "outputs": [
    {
     "name": "stdout",
     "output_type": "stream",
     "text": [
      "              precision    recall  f1-score   support\n",
      "\n",
      "           0       0.50      1.00      0.67         6\n",
      "           1       0.00      0.00      0.00         6\n",
      "           2       0.40      0.67      0.50         6\n",
      "           3       0.00      0.00      0.00         7\n",
      "           4       0.50      0.43      0.46         7\n",
      "           5       0.60      1.00      0.75         6\n",
      "           6       0.75      0.43      0.55         7\n",
      "           7       1.00      0.43      0.60         7\n",
      "           8       0.29      0.67      0.40         6\n",
      "           9       0.30      0.50      0.37         6\n",
      "          10       0.00      0.00      0.00         6\n",
      "          11       0.00      0.00      0.00         6\n",
      "\n",
      "    accuracy                           0.42        76\n",
      "   macro avg       0.36      0.43      0.36        76\n",
      "weighted avg       0.37      0.42      0.36        76\n",
      "\n"
     ]
    }
   ],
   "source": [
    "y_pred_logis = model_logistic.predict(X_test_scaled)\n",
    "print(classification_report(y_test, y_pred_logis))"
   ]
  },
  {
   "cell_type": "markdown",
   "metadata": {
    "id": "W9vy89aHE1T2"
   },
   "source": [
    "**Multi Layer Perceptron**"
   ]
  },
  {
   "cell_type": "code",
   "execution_count": 131,
   "metadata": {
    "colab": {
     "base_uri": "https://localhost:8080/"
    },
    "id": "yIxWdPHIWoeC",
    "outputId": "179b95ea-7b97-4d5a-ed48-143ab4130b3b"
   },
   "outputs": [
    {
     "name": "stdout",
     "output_type": "stream",
     "text": [
      "              precision    recall  f1-score   support\n",
      "\n",
      "           0       0.40      1.00      0.57         6\n",
      "           1       0.00      0.00      0.00         6\n",
      "           2       1.00      0.17      0.29         6\n",
      "           3       0.57      0.57      0.57         7\n",
      "           4       0.57      0.57      0.57         7\n",
      "           5       0.75      1.00      0.86         6\n",
      "           6       1.00      0.71      0.83         7\n",
      "           7       0.75      0.43      0.55         7\n",
      "           8       0.57      0.67      0.62         6\n",
      "           9       0.30      0.50      0.37         6\n",
      "          10       0.30      0.50      0.37         6\n",
      "          11       0.00      0.00      0.00         6\n",
      "\n",
      "    accuracy                           0.51        76\n",
      "   macro avg       0.52      0.51      0.47        76\n",
      "weighted avg       0.53      0.51      0.48        76\n",
      "\n"
     ]
    },
    {
     "name": "stderr",
     "output_type": "stream",
     "text": [
      "c:\\users\\runcodebagus\\appdata\\local\\programs\\python\\python37\\lib\\site-packages\\sklearn\\metrics\\_classification.py:1318: UndefinedMetricWarning: Precision and F-score are ill-defined and being set to 0.0 in labels with no predicted samples. Use `zero_division` parameter to control this behavior.\n",
      "  _warn_prf(average, modifier, msg_start, len(result))\n",
      "c:\\users\\runcodebagus\\appdata\\local\\programs\\python\\python37\\lib\\site-packages\\sklearn\\metrics\\_classification.py:1318: UndefinedMetricWarning: Precision and F-score are ill-defined and being set to 0.0 in labels with no predicted samples. Use `zero_division` parameter to control this behavior.\n",
      "  _warn_prf(average, modifier, msg_start, len(result))\n",
      "c:\\users\\runcodebagus\\appdata\\local\\programs\\python\\python37\\lib\\site-packages\\sklearn\\metrics\\_classification.py:1318: UndefinedMetricWarning: Precision and F-score are ill-defined and being set to 0.0 in labels with no predicted samples. Use `zero_division` parameter to control this behavior.\n",
      "  _warn_prf(average, modifier, msg_start, len(result))\n"
     ]
    }
   ],
   "source": [
    "y_pred_mlp = model_mlp.predict(X_test_scaled)\n",
    "print(classification_report(y_test, y_pred_mlp))"
   ]
  },
  {
   "cell_type": "markdown",
   "metadata": {
    "id": "XzDmYOhp0Srl"
   },
   "source": [
    "**Decision Tree**"
   ]
  },
  {
   "cell_type": "code",
   "execution_count": 132,
   "metadata": {
    "colab": {
     "base_uri": "https://localhost:8080/"
    },
    "id": "LL6wjTy70R6V",
    "outputId": "eae266d5-cc77-44b8-a4c3-85fffb2e3d3d"
   },
   "outputs": [
    {
     "name": "stdout",
     "output_type": "stream",
     "text": [
      "              precision    recall  f1-score   support\n",
      "\n",
      "           0       0.86      1.00      0.92         6\n",
      "           1       1.00      1.00      1.00         6\n",
      "           2       1.00      0.83      0.91         6\n",
      "           3       1.00      1.00      1.00         7\n",
      "           4       0.88      1.00      0.93         7\n",
      "           5       1.00      1.00      1.00         6\n",
      "           6       1.00      1.00      1.00         7\n",
      "           7       1.00      0.86      0.92         7\n",
      "           8       1.00      1.00      1.00         6\n",
      "           9       1.00      1.00      1.00         6\n",
      "          10       1.00      1.00      1.00         6\n",
      "          11       1.00      1.00      1.00         6\n",
      "\n",
      "    accuracy                           0.97        76\n",
      "   macro avg       0.98      0.97      0.97        76\n",
      "weighted avg       0.98      0.97      0.97        76\n",
      "\n"
     ]
    }
   ],
   "source": [
    "y_pred_dt = model_dt.predict(X_test_scaled)\n",
    "print(classification_report(y_test, y_pred_dt))"
   ]
  },
  {
   "cell_type": "markdown",
   "metadata": {
    "id": "XRQZ0wIQ0Xav"
   },
   "source": [
    "**Decision Tree dengan hyperparameters**"
   ]
  },
  {
   "cell_type": "code",
   "execution_count": 133,
   "metadata": {
    "colab": {
     "base_uri": "https://localhost:8080/"
    },
    "id": "CzTOV3_Y0cQb",
    "outputId": "d84c6b04-9cc4-422f-c31b-ab4636326f3b"
   },
   "outputs": [
    {
     "name": "stdout",
     "output_type": "stream",
     "text": [
      "              precision    recall  f1-score   support\n",
      "\n",
      "           0       0.08      1.00      0.15         6\n",
      "           1       0.00      0.00      0.00         6\n",
      "           2       0.00      0.00      0.00         6\n",
      "           3       0.00      0.00      0.00         7\n",
      "           4       0.00      0.00      0.00         7\n",
      "           5       0.00      0.00      0.00         6\n",
      "           6       0.00      0.00      0.00         7\n",
      "           7       0.00      0.00      0.00         7\n",
      "           8       0.00      0.00      0.00         6\n",
      "           9       0.00      0.00      0.00         6\n",
      "          10       0.00      0.00      0.00         6\n",
      "          11       0.00      0.00      0.00         6\n",
      "\n",
      "    accuracy                           0.08        76\n",
      "   macro avg       0.01      0.08      0.01        76\n",
      "weighted avg       0.01      0.08      0.01        76\n",
      "\n"
     ]
    },
    {
     "name": "stderr",
     "output_type": "stream",
     "text": [
      "c:\\users\\runcodebagus\\appdata\\local\\programs\\python\\python37\\lib\\site-packages\\sklearn\\metrics\\_classification.py:1318: UndefinedMetricWarning: Precision and F-score are ill-defined and being set to 0.0 in labels with no predicted samples. Use `zero_division` parameter to control this behavior.\n",
      "  _warn_prf(average, modifier, msg_start, len(result))\n",
      "c:\\users\\runcodebagus\\appdata\\local\\programs\\python\\python37\\lib\\site-packages\\sklearn\\metrics\\_classification.py:1318: UndefinedMetricWarning: Precision and F-score are ill-defined and being set to 0.0 in labels with no predicted samples. Use `zero_division` parameter to control this behavior.\n",
      "  _warn_prf(average, modifier, msg_start, len(result))\n",
      "c:\\users\\runcodebagus\\appdata\\local\\programs\\python\\python37\\lib\\site-packages\\sklearn\\metrics\\_classification.py:1318: UndefinedMetricWarning: Precision and F-score are ill-defined and being set to 0.0 in labels with no predicted samples. Use `zero_division` parameter to control this behavior.\n",
      "  _warn_prf(average, modifier, msg_start, len(result))\n"
     ]
    }
   ],
   "source": [
    "y_pred_dt_hyper = model_dt_hyper.predict(X_test_scaled)\n",
    "print(classification_report(y_test, y_pred_dt_hyper))"
   ]
  },
  {
   "cell_type": "markdown",
   "metadata": {
    "id": "oHQzV7SnE6Z3"
   },
   "source": [
    "**Naive Bayes**"
   ]
  },
  {
   "cell_type": "code",
   "execution_count": 134,
   "metadata": {
    "colab": {
     "base_uri": "https://localhost:8080/"
    },
    "id": "FefKFjrzFOam",
    "outputId": "db289bb1-5db1-48df-d59f-2740cace8416"
   },
   "outputs": [
    {
     "name": "stderr",
     "output_type": "stream",
     "text": [
      "c:\\users\\runcodebagus\\appdata\\local\\programs\\python\\python37\\lib\\site-packages\\sklearn\\metrics\\_classification.py:1318: UndefinedMetricWarning: Precision and F-score are ill-defined and being set to 0.0 in labels with no predicted samples. Use `zero_division` parameter to control this behavior.\n",
      "  _warn_prf(average, modifier, msg_start, len(result))\n"
     ]
    },
    {
     "name": "stdout",
     "output_type": "stream",
     "text": [
      "              precision    recall  f1-score   support\n",
      "\n",
      "           0       0.60      1.00      0.75         6\n",
      "           1       0.00      0.00      0.00         6\n",
      "           2       0.80      0.67      0.73         6\n",
      "           3       0.58      1.00      0.74         7\n",
      "           4       1.00      0.71      0.83         7\n",
      "           5       1.00      1.00      1.00         6\n",
      "           6       1.00      0.71      0.83         7\n",
      "           7       0.88      1.00      0.93         7\n",
      "           8       0.57      0.67      0.62         6\n",
      "           9       1.00      0.50      0.67         6\n",
      "          10       0.33      0.50      0.40         6\n",
      "          11       0.17      0.17      0.17         6\n",
      "\n",
      "    accuracy                           0.67        76\n",
      "   macro avg       0.66      0.66      0.64        76\n",
      "weighted avg       0.67      0.67      0.65        76\n",
      "\n"
     ]
    },
    {
     "name": "stderr",
     "output_type": "stream",
     "text": [
      "c:\\users\\runcodebagus\\appdata\\local\\programs\\python\\python37\\lib\\site-packages\\sklearn\\metrics\\_classification.py:1318: UndefinedMetricWarning: Precision and F-score are ill-defined and being set to 0.0 in labels with no predicted samples. Use `zero_division` parameter to control this behavior.\n",
      "  _warn_prf(average, modifier, msg_start, len(result))\n",
      "c:\\users\\runcodebagus\\appdata\\local\\programs\\python\\python37\\lib\\site-packages\\sklearn\\metrics\\_classification.py:1318: UndefinedMetricWarning: Precision and F-score are ill-defined and being set to 0.0 in labels with no predicted samples. Use `zero_division` parameter to control this behavior.\n",
      "  _warn_prf(average, modifier, msg_start, len(result))\n"
     ]
    }
   ],
   "source": [
    "y_pred_nb = model_nb.predict(X_test_scaled)\n",
    "print(classification_report(y_test, y_pred_nb))"
   ]
  },
  {
   "cell_type": "markdown",
   "metadata": {
    "id": "v7XTeN32E-Ib"
   },
   "source": [
    "**KNN**"
   ]
  },
  {
   "cell_type": "code",
   "execution_count": 135,
   "metadata": {
    "colab": {
     "base_uri": "https://localhost:8080/"
    },
    "id": "8o0I3SCSDXv-",
    "outputId": "c0e15bc0-e4ba-4bbd-9c5e-502cdbc5dd6b"
   },
   "outputs": [
    {
     "name": "stdout",
     "output_type": "stream",
     "text": [
      "              precision    recall  f1-score   support\n",
      "\n",
      "           0       0.86      1.00      0.92         6\n",
      "           1       0.75      1.00      0.86         6\n",
      "           2       1.00      0.67      0.80         6\n",
      "           3       0.64      1.00      0.78         7\n",
      "           4       1.00      0.57      0.73         7\n",
      "           5       1.00      0.83      0.91         6\n",
      "           6       1.00      0.71      0.83         7\n",
      "           7       0.70      1.00      0.82         7\n",
      "           8       1.00      0.50      0.67         6\n",
      "           9       0.60      0.50      0.55         6\n",
      "          10       0.83      0.83      0.83         6\n",
      "          11       0.75      1.00      0.86         6\n",
      "\n",
      "    accuracy                           0.80        76\n",
      "   macro avg       0.84      0.80      0.80        76\n",
      "weighted avg       0.84      0.80      0.80        76\n",
      "\n"
     ]
    }
   ],
   "source": [
    "y_pred_knn = model_knn.predict(X_test_scaled)\n",
    "print(classification_report(y_test, y_pred_knn))"
   ]
  },
  {
   "cell_type": "markdown",
   "metadata": {
    "id": "R_9lOLrhGIoc"
   },
   "source": [
    "**KNN dengan hyperparameters**"
   ]
  },
  {
   "cell_type": "code",
   "execution_count": 136,
   "metadata": {
    "colab": {
     "base_uri": "https://localhost:8080/"
    },
    "id": "BuoaXLLRyoUy",
    "outputId": "54e5f6d2-4d72-4c83-ffcc-e94fd5dc87cf"
   },
   "outputs": [
    {
     "name": "stdout",
     "output_type": "stream",
     "text": [
      "              precision    recall  f1-score   support\n",
      "\n",
      "           0       0.86      1.00      0.92         6\n",
      "           1       0.86      1.00      0.92         6\n",
      "           2       1.00      0.83      0.91         6\n",
      "           3       0.78      1.00      0.88         7\n",
      "           4       0.83      0.71      0.77         7\n",
      "           5       1.00      1.00      1.00         6\n",
      "           6       1.00      1.00      1.00         7\n",
      "           7       0.86      0.86      0.86         7\n",
      "           8       1.00      0.50      0.67         6\n",
      "           9       0.86      1.00      0.92         6\n",
      "          10       1.00      1.00      1.00         6\n",
      "          11       1.00      1.00      1.00         6\n",
      "\n",
      "    accuracy                           0.91        76\n",
      "   macro avg       0.92      0.91      0.90        76\n",
      "weighted avg       0.92      0.91      0.90        76\n",
      "\n"
     ]
    }
   ],
   "source": [
    "y_pred_knn_hyper = model_knn_hyper.predict(X_test_scaled)\n",
    "print(classification_report(y_test, y_pred_knn_hyper))"
   ]
  },
  {
   "cell_type": "code",
   "execution_count": 137,
   "metadata": {
    "colab": {
     "base_uri": "https://localhost:8080/"
    },
    "id": "V4CirVskw2QD",
    "outputId": "39a07216-c8de-4b35-d1bd-65416b0b0670"
   },
   "outputs": [
    {
     "data": {
      "text/plain": [
       "SVC(C=1000, gamma=1)"
      ]
     },
     "execution_count": 137,
     "metadata": {},
     "output_type": "execute_result"
    }
   ],
   "source": [
    "svm_hyper=SVC(C=1000, gamma=1, kernel='rbf')\n",
    "svm_hyper.fit(X_train_scaled, y_train)"
   ]
  },
  {
   "cell_type": "code",
   "execution_count": 138,
   "metadata": {
    "colab": {
     "base_uri": "https://localhost:8080/"
    },
    "id": "IwTRgBwP0ifT",
    "outputId": "efcb98b9-b34c-47f6-806e-319af2c86146"
   },
   "outputs": [
    {
     "data": {
      "text/plain": [
       "DecisionTreeClassifier()"
      ]
     },
     "execution_count": 138,
     "metadata": {},
     "output_type": "execute_result"
    }
   ],
   "source": [
    "dt_hyper=DecisionTreeClassifier()\n",
    "dt_hyper.fit(X_train_scaled, y_train)"
   ]
  },
  {
   "cell_type": "code",
   "execution_count": 139,
   "metadata": {
    "colab": {
     "base_uri": "https://localhost:8080/"
    },
    "id": "9f5i_jIvyyKN",
    "outputId": "d169cddf-b9d0-41e4-f68f-9180f63fc3eb"
   },
   "outputs": [
    {
     "data": {
      "text/plain": [
       "KNeighborsClassifier(n_neighbors=2)"
      ]
     },
     "execution_count": 139,
     "metadata": {},
     "output_type": "execute_result"
    }
   ],
   "source": [
    "knn_hyper=KNeighborsClassifier(n_neighbors= 2)\n",
    "knn_hyper.fit(X_train_scaled, y_train)"
   ]
  },
  {
   "cell_type": "markdown",
   "metadata": {
    "id": "711gciFoFdGP"
   },
   "source": [
    "# Test Model"
   ]
  },
  {
   "cell_type": "code",
   "execution_count": 140,
   "metadata": {
    "colab": {
     "base_uri": "https://localhost:8080/"
    },
    "id": "0qp1HU4COokt",
    "outputId": "1cd81bf1-570b-4700-cf3e-ea253e705497"
   },
   "outputs": [
    {
     "name": "stdout",
     "output_type": "stream",
     "text": [
      "Hasil prediksi label Anda adalah kencur\n"
     ]
    }
   ],
   "source": [
    "# input data baru\n",
    "penyakit1 = 1 #@param [0,1,2,3,4,5,6,7,8,9,10,11,12,13,14,15,16,17,18,19,20,21,22,23,24,25,26,27,28,29,30,31,32,33,34,35,36,37,38,39,40,41,42,43,44,45,46]{type:\"raw\"}\n",
    "penyakit2 = 12 #@param [0,1,2,3,4,5,6,7,8,9,10,11,12,13,14,15,16,17,18,19,20,21,22,23,24,25,26,27,28,29,30,31,32,33,34,35,36,37,38,39,40,41,42,43,44,45,46]{type:\"raw\"}\n",
    "\n",
    "# data baru yang diinput harus di-standardization terlebih dahulu\n",
    "data_baru = [[penyakit1, penyakit2]]\n",
    "data_baru = scaler.transform(data_baru)\n",
    "\n",
    "# prediksi data baru, yang sudah di-standardization, menggunakan model SVM terbaik\n",
    "hasil_prediksi = model_dt.predict(data_baru)\n",
    "hasil_prediksi = int(hasil_prediksi)\n",
    "\n",
    "print('Hasil prediksi label Anda adalah ', end='')\n",
    "if hasil_prediksi == 0:\n",
    "  print('jahe')\n",
    "elif hasil_prediksi == 1:\n",
    "  print('kunyit')\n",
    "elif hasil_prediksi == 2:\n",
    "  print('temulawak')\n",
    "elif hasil_prediksi == 3:\n",
    "  print('kencur')\n",
    "elif hasil_prediksi == 4:\n",
    "  print('sirih')\n",
    "elif hasil_prediksi == 5:\n",
    "  print('kemangi')\n",
    "elif hasil_prediksi == 6:\n",
    "  print('sambiloto')\n",
    "elif hasil_prediksi == 7:\n",
    "  print('binahong')\n",
    "elif hasil_prediksi == 8:\n",
    "  print('temu hitam')\n",
    "elif hasil_prediksi == 9:\n",
    "  print('lidah buaya')\n",
    "elif hasil_prediksi == 10:\n",
    "  print('beluntas')\n",
    "elif hasil_prediksi == 11:\n",
    "  print('kumis kucing')\n",
    "else:\n",
    "  print('input anda tidak relevan')"
   ]
  },
  {
   "cell_type": "code",
   "execution_count": 141,
   "metadata": {
    "id": "p-sN5kKh6LXY"
   },
   "outputs": [],
   "source": [
    "import pickle\n",
    "pickle.dump(model_dt,open('model.pkl', 'wb'))\n",
    "pickle.dump(scaler, open('scaler.pkl', 'wb'))"
   ]
  },
  {
   "cell_type": "markdown",
   "metadata": {
    "id": "vN8nOAYZ0Fyo"
   },
   "source": [
    "ini berdasarkan dataset\n",
    "\n",
    "*   0=batuk,4=asma = temulawak (harusnya temu hitam)\n",
    "*   4=amandel,0=nafsu makan = jahe (harusnya temu hitam)\n",
    "*   1=nafsu makan,1=sakit perut = jahe (harusnya temulawak), tapi krn bisa dgn tanaman jahe jadi aman.\n",
    "*   2=sakit perut,2=sakit kepala = jahe (harusnya temulawak), tapi krn bisa dgn tanaman jahe jadi aman.\n",
    "*   4=amandel,4=asma = temulawak (harusnya kunyit)\n",
    "*   4=amandel,4=sembelit = temulawak (harusnya kunyit)\n",
    "\n",
    "aku ngambil kesimpulan, kenapa outputnya seperti itu karena mungkin mengikuti label terbanyak di dataset, krn pada baris kunyit label tersebut diatas dan dibawahnya dominan jahe dan temulawak.\n",
    "\n",
    "kalo yg bawah ini kayaknya udh mulai gak masuk wkwk\n",
    "*   7=radang lambung,9=muntah = temulawak (harusnya kencur)\n",
    "*   7=radang lambung,10=bau mulut = temu hitam (harusnya sirih)\n",
    "*   7=radang lambung,11=sakit mata = temu hitam (harusnya sirih)\n",
    "*   8=demam,9=muntah = kemangi (harusnya kencur)\n",
    "*   9=bau mulut,11 = sakit mata (harusnya sirih)\n",
    "*   10=kulit gatal,11=jerawat = kemangi(harusnya sirih)\n",
    "*   10=kulit gatal,13=pendarahan gusi = kemangi(harusnya sirih)\n",
    "*   10=kulit gatal,14=mimisan = kemangi(harusnya sirih)\n",
    "*   11=jerawat,13=pendarahan gusi = kemangi(harusnya sirih)\n",
    "*   List item\n",
    "\n",
    "\n",
    "\n",
    "\n",
    "\n"
   ]
  },
  {
   "cell_type": "markdown",
   "metadata": {
    "id": "G9PLPICpBf-p"
   },
   "source": [
    "ini berdasarkan dataset\n",
    "\n",
    "*   0=batuk,4=asma = temulawak (harusnya temu hitam)\n",
    "*   4=amandel,0=nafsu makan = jahe (harusnya temu hitam)\n",
    "*   1=nafsu makan,1=sakit perut = jahe (harusnya temulawak), tapi krn bisa dgn tanaman jahe jadi aman.\n",
    "*   2=sakit perut,2=sakit kepala = jahe (harusnya temulawak), tapi krn bisa dgn tanaman jahe jadi aman.\n",
    "*   4=amandel,4=asma = temulawak (harusnya kunyit)\n",
    "*   4=amandel,4=sembelit = temulawak (harusnya kunyit)\n",
    "\n",
    "aku ngambil kesimpulan, kenapa outputnya seperti itu karena mungkin mengikuti label terbanyak di dataset, krn pada baris kunyit label tersebut diatas dan dibawahnya dominan jahe dan temulawak.\n",
    "\n",
    "kalo yg bawah ini kayaknya udh mulai gak masuk wkwk\n",
    "*   7=radang lambung,9=muntah = temulawak (harusnya kencur)\n",
    "*   7=radang lambung,10=bau mulut = temu hitam (harusnya sirih)\n",
    "*   7=radang lambung,11=sakit mata = temu hitam (harusnya sirih)\n",
    "*   8=demam,9=muntah = kemangi (harusnya kencur)\n",
    "*   9=bau mulut,11 = sakit mata (harusnya sirih)\n",
    "*   10=kulit gatal,11=jerawat = kemangi(harusnya sirih)\n",
    "*   10=kulit gatal,13=pendarahan gusi = kemangi(harusnya sirih)\n",
    "*   10=kulit gatal,14=mimisan = kemangi(harusnya sirih)\n",
    "*   11=jerawat,13=pendarahan gusi = kemangi(harusnya sirih)\n",
    "*   List item\n",
    "\n",
    "\n",
    "\n",
    "\n",
    "\n"
   ]
  },
  {
   "cell_type": "code",
   "execution_count": 142,
   "metadata": {
    "colab": {
     "base_uri": "https://localhost:8080/"
    },
    "id": "4nDXh7YzVoZc",
    "outputId": "35bb9f3b-25d8-4534-e6d4-9213a95c8d73"
   },
   "outputs": [
    {
     "name": "stdout",
     "output_type": "stream",
     "text": [
      "Hasil prediksi label Anda adalah jahe\n"
     ]
    }
   ],
   "source": [
    "# input data baru\n",
    "penyakit1 = 1 #@param [0,1,2,3,4,5,6,7,8,9,10,11,12,13,14,15,16,17,18,19,20,21,22,23,24,25,26,27,28,29,30,31,32,33,34,35,36,37,38,39,40,41,42,43,44,45]{type:\"raw\"}\n",
    "penyakit2 = 1 #@param [0,1,2,3,4,5,6,7,8,9,10,11,12,13,14,15,16,17,18,19,20,21,22,23,24,25,26,27,28,29,30,31,32,33,34,35,36,37,38,39,40,41,42,43,44,45]{type:\"raw\"}\n",
    "\n",
    "# data baru yang diinput harus di-standardization terlebih dahulu\n",
    "data_baru = [[penyakit1, penyakit2]]\n",
    "data_baru = scaler.transform(data_baru)\n",
    "\n",
    "# prediksi data baru, yang sudah di-standardization, menggunakan model SVM terbaik\n",
    "hasil_prediksi = model_knn.predict(data_baru)\n",
    "hasil_prediksi = int(hasil_prediksi)\n",
    "\n",
    "print('Hasil prediksi label Anda adalah ', end='')\n",
    "if hasil_prediksi == 0:\n",
    "  print('jahe')\n",
    "elif hasil_prediksi == 1:\n",
    "  print('kunyit')\n",
    "elif hasil_prediksi == 2:\n",
    "  print('temulawak')\n",
    "elif hasil_prediksi == 3:\n",
    "  print('kencur')\n",
    "elif hasil_prediksi == 4:\n",
    "  print('sirih')\n",
    "elif hasil_prediksi == 5:\n",
    "  print('kemangi')\n",
    "elif hasil_prediksi == 6:\n",
    "  print('sambiloto')\n",
    "elif hasil_prediksi == 7:\n",
    "  print('binahong')\n",
    "elif hasil_prediksi == 8:\n",
    "  print('temu hitam')\n",
    "elif hasil_prediksi == 9:\n",
    "  print('lidah buaya')\n",
    "elif hasil_prediksi == 10:\n",
    "  print('beluntas')\n",
    "else:\n",
    "  print('input anda tidak relevan')"
   ]
  },
  {
   "cell_type": "code",
   "execution_count": 143,
   "metadata": {
    "colab": {
     "base_uri": "https://localhost:8080/",
     "height": 282
    },
    "id": "Vo87-5wNmR7E",
    "outputId": "6771db0e-fc60-415d-95ff-ee4111319e1c"
   },
   "outputs": [
    {
     "data": {
      "text/plain": [
       "<matplotlib.collections.PathCollection at 0x1e52330c588>"
      ]
     },
     "execution_count": 143,
     "metadata": {},
     "output_type": "execute_result"
    },
    {
     "data": {
      "image/png": "[encoded data removed]",
      "text/plain": [
       "<Figure size 640x480 with 1 Axes>"
      ]
     },
     "metadata": {},
     "output_type": "display_data"
    }
   ],
   "source": [
    "def get_grid(data):\n",
    "    x_min, x_max = data[:, 0].min() - 1, data[:, 0].max() + 1\n",
    "    y_min, y_max = data[:, 1].min() - 1, data[:, 1].max() + 1\n",
    "    return np.meshgrid(np.arange(x_min, x_max, 0.01), np.arange(y_min, y_max, 0.01))\n",
    "\n",
    "\n",
    "model_dt = DecisionTreeClassifier(criterion=\"entropy\", max_depth=3, random_state=17)\n",
    "\n",
    "# training the tree\n",
    "model_dt.fit(X_train_scaled, y_train)\n",
    "\n",
    "# some code to depict separating surface\n",
    "xx, yy = get_grid(X_train_scaled)\n",
    "predicted = model_dt.predict(np.c_[xx.ravel(), yy.ravel()]).reshape(xx.shape)\n",
    "plt.pcolormesh(xx, yy, predicted, cmap=\"autumn\")\n",
    "plt.scatter(\n",
    "    X_train_scaled[:, 0],\n",
    "    X_train_scaled[:, 1],\n",
    "    c=y_train,\n",
    "    s=100,\n",
    "    cmap=\"autumn\",\n",
    "    edgecolors=\"black\",\n",
    "    linewidth=1.5,\n",
    ")"
   ]
  },
  {
   "cell_type": "code",
   "execution_count": 144,
   "metadata": {
    "id": "RFqaEUJOl8BT"
   },
   "outputs": [],
   "source": [
    "# !pip install pydotplus"
   ]
  },
  {
   "cell_type": "code",
   "execution_count": 145,
   "metadata": {
    "id": "5DQmGu8Vl0e-"
   },
   "outputs": [],
   "source": [
    "# import pydotplus  # pip install pydotplus\n",
    "# from sklearn.tree import export_graphviz\n",
    "\n",
    "\n",
    "# def tree_graph_to_png(tree, feature_names, png_file_to_save):\n",
    "#     \"\"\"\n",
    "#     This requires GraphViz to be installed.  \n",
    "#     \"\"\"\n",
    "    \n",
    "#     tree_str = export_graphviz(\n",
    "#         tree, feature_names=feature_names, filled=True, out_file=None\n",
    "#     )\n",
    "#     graph = pydotplus.graph_from_dot_data(tree_str)\n",
    "#     graph.write_png(png_file_to_save)"
   ]
  },
  {
   "cell_type": "code",
   "execution_count": 146,
   "metadata": {
    "id": "bNW9fjGrl1hB"
   },
   "outputs": [],
   "source": [
    "# tree_graph_to_png(\n",
    "#     tree=clf_tree,\n",
    "#     feature_names=[\"p1\", \"p2\"],\n",
    "#     png_file_to_save=\"topic3_decision_tree1.png\",\n",
    "# )"
   ]
  },
  {
   "cell_type": "code",
   "execution_count": 147,
   "metadata": {
    "id": "3ENNZjqoelSR"
   },
   "outputs": [],
   "source": [
    "# neig = np.arange(1, 20)\n",
    "# train_accuracy = []\n",
    "# test_accuracy = []\n",
    "# # Loop over different values of k\n",
    "# for i, k in enumerate(neig):\n",
    "#     # k from 1 to 25(exclude)\n",
    "#     model_knn = KNeighborsClassifier(n_neighbors=k)\n",
    "#     # Fit with knn\n",
    "#     model_knn.fit(X_train_scaled,y_train)\n",
    "#     #train accuracy\n",
    "#     train_accuracy.append(model_knn.score(X_train_scaled, y_train))\n",
    "#     # test accuracy\n",
    "#     test_accuracy.append(model_knn.score(X_test_scaled, y_test))\n",
    "\n",
    "# # Plot\n",
    "# plt.figure(figsize=[10,6])\n",
    "# plt.plot(neig, test_accuracy, label = 'Testing Accuracy')\n",
    "# plt.plot(neig, train_accuracy, label = 'Training Accuracy')\n",
    "# plt.legend()\n",
    "# plt.title('-value VS Accuracy')\n",
    "# plt.xlabel('Number of Neighbors')\n",
    "# plt.ylabel('Accuracy')\n",
    "# plt.xticks(neig)\n",
    "# plt.savefig('graph.png')\n",
    "# plt.show()\n",
    "# print(\"Best accuracy is {} with K = {}\".format(np.max(test_accuracy),1+test_accuracy.index(np.max(test_accuracy))))"
   ]
  },
  {
   "cell_type": "code",
   "execution_count": 148,
   "metadata": {
    "colab": {
     "base_uri": "https://localhost:8080/",
     "height": 295
    },
    "id": "QVIt-gmCSIxW",
    "outputId": "9d140dba-32f0-4913-a811-dc071f36fac5"
   },
   "outputs": [
    {
     "data": {
      "image/png": "[encoded data removed]",
      "text/plain": [
       "<Figure size 640x480 with 1 Axes>"
      ]
     },
     "metadata": {},
     "output_type": "display_data"
    }
   ],
   "source": [
    "plt.plot(y_test)                                     # Line chart data sebenarnya (label)\n",
    "plt.plot(y_pred_knn)                                  # Line chart hasil prediksi model\n",
    "plt.title('Prediction vs Real Data')                  # Judul plot\n",
    "plt.xlabel(\"Data ke-\")                                      # Nama sumbu X\n",
    "plt.ylabel(\"Label\")                                 # Nama sumbu Y\n",
    "plt.legend(labels=['Prediction',\"Real\"])                    # Menambahkan legenda pada plot\n",
    "plt.show()"
   ]
  },
  {
   "cell_type": "code",
   "execution_count": 149,
   "metadata": {
    "id": "7fZsrDFSFe6k"
   },
   "outputs": [],
   "source": [
    "# def p1_con(penyakit1):\n",
    "#   if penyakit1=='batuk':\n",
    "#     result=0\n",
    "#   elif penyakit1=='nafsu_makan':\n",
    "#     result=1\n",
    "#   elif penyakit1=='sakit_perut':\n",
    "#     result=2\n",
    "#   elif penyakit1=='sakit_kepala':\n",
    "#     result=3\n",
    "#   elif penyakit1=='perut_kembung':\n",
    "#     result=4\n",
    "#   elif penyakit1=='radang_amandel':\n",
    "#     result=5\n",
    "#   elif penyakit1=='asma':\n",
    "#     result=6\n",
    "#   elif penyakit1=='sembelit':\n",
    "#     result=7\n",
    "#   elif penyakit1=='masuk_angin':\n",
    "#     result=8\n",
    "#   elif penyakit1=='sariawan':\n",
    "#     result=9\n",
    "#   elif penyakit1=='radang_lambung/maag/nyeri_lambung':\n",
    "#     result=10\n",
    "#   elif penyakit1=='demam/panas':\n",
    "#     result=11\n",
    "#   elif penyakit1=='muntah':\n",
    "#     result=12\n",
    "#   elif penyakit1=='bau_mulut':\n",
    "#     result=13\n",
    "#   elif penyakit1=='sakit_mata':\n",
    "#     result=14\n",
    "#   elif penyakit1=='kulit_gatal':\n",
    "#     result=15\n",
    "#   elif penyakit1=='jerawat':\n",
    "#     result=16\n",
    "#   elif penyakit1=='pendarahan_gusi':\n",
    "#     result=17\n",
    "#   elif penyakit1=='mimisan':\n",
    "#     result=18\n",
    "#   return result"
   ]
  },
  {
   "cell_type": "code",
   "execution_count": 150,
   "metadata": {
    "id": "ikhol-vELrxy"
   },
   "outputs": [],
   "source": [
    "# def p2_con(penyakit2):\n",
    "#   if penyakit2=='batuk':\n",
    "#     result=0\n",
    "#   elif penyakit2=='nafsu_makan':\n",
    "#     result=1\n",
    "#   elif penyakit2=='sakit_perut':\n",
    "#     result=2\n",
    "#   elif penyakit2=='sakit_kepala':\n",
    "#     result=3\n",
    "#   elif penyakit2=='perut_kembung':\n",
    "#     result=4\n",
    "#   elif penyakit2=='radang_amandel':\n",
    "#     result=5\n",
    "#   elif penyakit2=='asma':\n",
    "#     result=6\n",
    "#   elif penyakit2=='sembelit':\n",
    "#     result=7\n",
    "#   elif penyakit2=='masuk_angin':\n",
    "#     result=8\n",
    "#   elif penyakit2=='sariawan':\n",
    "#     result=9\n",
    "#   elif penyakit2=='radang_lambung/maag/nyeri_lambung':\n",
    "#     result=10\n",
    "#   elif penyakit2=='demam/panas':\n",
    "#     result=11\n",
    "#   elif penyakit2=='muntah':\n",
    "#     result=12\n",
    "#   elif penyakit2=='bau_mulut':\n",
    "#     result=13\n",
    "#   elif penyakit2=='sakit_mata':\n",
    "#     result=14\n",
    "#   elif penyakit2=='kulit_gatal':\n",
    "#     result=15\n",
    "#   elif penyakit2=='jerawat':\n",
    "#     result=16\n",
    "#   elif penyakit2=='pendarahan_gusi':\n",
    "#     result=17\n",
    "#   elif penyakit2=='mimisan':\n",
    "#     result=18\n",
    "#   return result"
   ]
  },
  {
   "cell_type": "code",
   "execution_count": 151,
   "metadata": {
    "id": "42S83dBPXkSR"
   },
   "outputs": [],
   "source": [
    "# def p_con(penyakit1,penyakit2):\n",
    "#   if penyakit1 or penyakit2=='batuk':\n",
    "#     result=0\n",
    "#   elif penyakit1 or penyakit2=='nafsu_makan':\n",
    "#     result=1\n",
    "#   elif penyakit1 or penyakit2=='sakit_perut':\n",
    "#     result=2\n",
    "#   elif penyakit1 or penyakit2=='sakit_kepala':\n",
    "#     result=3\n",
    "#   elif penyakit1 or penyakit2=='perut_kembung':\n",
    "#     result=4\n",
    "#   elif penyakit1 or penyakit2=='radang_amandel':\n",
    "#     result=5\n",
    "#   elif penyakit1 or penyakit2=='asma':\n",
    "#     result=6\n",
    "#   elif penyakit1 or penyakit2=='sembelit':\n",
    "#     result=7\n",
    "#   elif penyakit1 or penyakit2=='masuk_angin':\n",
    "#     result=8\n",
    "#   elif penyakit1 or penyakit2=='sariawan':\n",
    "#     result=9\n",
    "#   elif penyakit1 or penyakit2=='radang_lambung/maag/nyeri_lambung':\n",
    "#     result=10\n",
    "#   elif penyakit1 or penyakit2=='demam/panas':\n",
    "#     result=11\n",
    "#   elif penyakit1 or penyakit2=='muntah':\n",
    "#     result=12\n",
    "#   elif penyakit1 or penyakit2=='bau_mulut':\n",
    "#     result=13\n",
    "#   elif penyakit1 or penyakit2=='sakit_mata':\n",
    "#     result=14\n",
    "#   elif penyakit1 or penyakit2=='kulit_gatal':\n",
    "#     result=15\n",
    "#   elif penyakit1 or penyakit2=='jerawat':\n",
    "#     result=16\n",
    "#   elif penyakit1 or penyakit2=='pendarahan_gusi':\n",
    "#     result=17\n",
    "#   elif penyakit1 or penyakit2=='mimisan':\n",
    "#     result=18\n",
    "#   return result"
   ]
  },
  {
   "cell_type": "code",
   "execution_count": 152,
   "metadata": {
    "id": "X-E4Wy9VBxQs"
   },
   "outputs": [],
   "source": [
    "# # input data baru\n",
    "# penyakit1 = \"batuk\" #@param ['batuk','nafsu_makan','sakit_perut','sakit_kepala','perut_kembung','radang_amandel','asma','sembelit','masuk_angin','sariawan','radang_lambung/maag/nyeri_lambung','demam/panas','muntah','bau_mulut','sakit_mata','kulit_gatal','jerawat','pendarahan_gusi','mimisan']{type:\"string\"}\n",
    "# penyakit2 = \"sakit_perut\" #@param ['batuk','nafsu_makan','sakit_perut','sakit_kepala','perut_kembung','radang_amandel','asma','sembelit','masuk_angin','sariawan','radang_lambung/maag/nyeri_lambung','demam/panas','muntah','bau_mulut','sakit_mata','kulit_gatal','jerawat','pendarahan_gusi','mimisan']{type:\"string\"}\n",
    "\n",
    "# penyakit1=p_con(penyakit1,penyakit2)\n",
    "# penyakit2=p_con(penyakit1,penyakit2)\n",
    "# # data baru yang diinput harus di-standardization terlebih dahulu\n",
    "# data_baru = [[penyakit1, penyakit2]]\n",
    "# data_baru = scaler.transform(data_baru)\n",
    "\n",
    "# # prediksi data baru, yang sudah di-standardization, menggunakan model SVM terbaik\n",
    "# # hasil_prediksi = best_model.predict(data_baru)\n",
    "# hasil_prediksi = int(model.predict(data_baru))\n",
    "\n",
    "# print('Hasil prediksi tanaman obat adalah ', end='')\n",
    "# if hasil_prediksi == 0:\n",
    "#   print('jahe')\n",
    "# elif hasil_prediksi == 1:\n",
    "#   print('kunyit')\n",
    "# elif hasil_prediksi == 2:\n",
    "#   print('temulawak')\n",
    "# elif hasil_prediksi == 3:\n",
    "#   print('kencur')\n",
    "# elif hasil_prediksi == 4:\n",
    "#   print('sirih')\n",
    "# else:\n",
    "#   print('jahe')"
   ]
  }
 ],
 "metadata": {
  "colab": {
   "provenance": []
  },
  "kernelspec": {
   "display_name": "Python 3 (ipykernel)",
   "language": "python",
   "name": "python3"
  },
  "language_info": {
   "codemirror_mode": {
    "name": "ipython",
    "version": 3
   },
   "file_extension": ".py",
   "mimetype": "text/x-python",
   "name": "python",
   "nbconvert_exporter": "python",
   "pygments_lexer": "ipython3",
   "version": "3.7.0"
  }
 },
 "nbformat": 4,
 "nbformat_minor": 1
}
